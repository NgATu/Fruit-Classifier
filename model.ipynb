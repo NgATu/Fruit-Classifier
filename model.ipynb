{
 "cells": [
  {
   "cell_type": "code",
   "execution_count": null,
   "metadata": {},
   "outputs": [],
   "source": [
    "import tensorflow as tf\n",
    "from tensorflow.keras import backend, optimizers\n",
    "from tensorflow.keras.layers import GlobalAveragePooling2D, Dense\n",
    "from tensorflow.keras.callbacks import EarlyStopping\n",
    "from tensorflow.keras.models import Model\n",
    "import os"
   ]
  },
  {
   "cell_type": "code",
   "execution_count": null,
   "metadata": {},
   "outputs": [],
   "source": [
    "img_dir = '../data'\n",
    "train_dir = os.path.join(img_dir, 'Training')\n",
    "test_dir = os.path.join(img_dir, 'Test')\n",
    "\n",
    "BATCH_SIZE = 32\n",
    "IMG_SIZE = (299, 299)"
   ]
  },
  {
   "cell_type": "code",
   "execution_count": null,
   "metadata": {},
   "outputs": [],
   "source": [
    "train_dataset = tf.keras.utils.image_dataset_from_directory(\n",
    "  train_dir,\n",
    "  shuffle=True,\n",
    "  batch_size=BATCH_SIZE,\n",
    "  image_size=IMG_SIZE\n",
    ")\n",
    "\n",
    "validation_dataset = tf.keras.utils.image_dataset_from_directory(\n",
    "  test_dir,\n",
    "  shuffle=True,\n",
    "  batch_size=BATCH_SIZE,\n",
    "  image_size=IMG_SIZE\n",
    ")"
   ]
  },
  {
   "cell_type": "code",
   "execution_count": null,
   "metadata": {},
   "outputs": [],
   "source": [
    "train_dataset = train_dataset.map(lambda x, y: (x / 255.0, y))\n",
    "validation_dataset = validation_dataset.map(lambda x, y: (x / 255.0, y))"
   ]
  },
  {
   "cell_type": "code",
   "execution_count": null,
   "metadata": {},
   "outputs": [],
   "source": [
    "train_dataset = train_dataset.prefetch(buffer_size=tf.data.AUTOTUNE)\n",
    "validation_dataset = validation_dataset.prefetch(buffer_size=tf.data.AUTOTUNE)"
   ]
  },
  {
   "cell_type": "code",
   "execution_count": null,
   "metadata": {},
   "outputs": [],
   "source": [
    "from keras.applications.inception_v3 import InceptionV3\n",
    "backend.clear_session()\n",
    "\n",
    "conv_base = InceptionV3(weights='imagenet', include_top=False, input_shape=(299, 299, 3))"
   ]
  },
  {
   "cell_type": "code",
   "execution_count": null,
   "metadata": {},
   "outputs": [],
   "source": [
    "InceptionV3_model_input = conv_base.output\n",
    "pooling = GlobalAveragePooling2D()(InceptionV3_model_input)\n",
    "dense = Dense(512, activation='relu')(pooling)\n",
    "output = Dense(131, activation='softmax')(dense)"
   ]
  },
  {
   "cell_type": "code",
   "execution_count": null,
   "metadata": {},
   "outputs": [],
   "source": [
    "model_InceptionV3 = Model(inputs=conv_base.input, outputs=output)\n",
    "model_InceptionV3.summary()"
   ]
  },
  {
   "cell_type": "code",
   "execution_count": null,
   "metadata": {},
   "outputs": [],
   "source": [
    "model_InceptionV3.compile(\n",
    "    loss='sparse_categorical_crossentropy',\n",
    "    optimizer=optimizers.SGD(learning_rate=1e-4, momentum=0.9),\n",
    "    metrics=['accuracy']\n",
    ")"
   ]
  },
  {
   "cell_type": "code",
   "execution_count": null,
   "metadata": {},
   "outputs": [],
   "source": [
    "history = model_InceptionV3.fit(\n",
    "    train_dataset,\n",
    "    epochs=5,\n",
    "    validation_data=validation_dataset,\n",
    "    callbacks=[EarlyStopping(monitor='val_accuracy', patience=5, restore_best_weights=True)]\n",
    ")"
   ]
  },
  {
   "cell_type": "code",
   "execution_count": null,
   "metadata": {},
   "outputs": [],
   "source": [
    "model_InceptionV3.save('model_name')"
   ]
  }
 ],
 "metadata": {
  "interpreter": {
   "hash": "448dcc38a99b3960802d39bf7ba66a15f79da116673ccc776ad1b325ae2b1cab"
  },
  "kernelspec": {
   "display_name": "Python 3.10.4 ('.venv': venv)",
   "language": "python",
   "name": "python3"
  },
  "language_info": {
   "codemirror_mode": {
    "name": "ipython",
    "version": 3
   },
   "file_extension": ".py",
   "mimetype": "text/x-python",
   "name": "python",
   "nbconvert_exporter": "python",
   "pygments_lexer": "ipython3",
   "version": "3.10.4"
  },
  "orig_nbformat": 4
 },
 "nbformat": 4,
 "nbformat_minor": 2
}
